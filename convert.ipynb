{
 "cells": [
  {
   "cell_type": "code",
   "execution_count": 1,
   "metadata": {},
   "outputs": [],
   "source": [
    "import markdown\n",
    "import os\n",
    "\n",
    "def convert_md_to_html(files, output_folder):\n",
    "    \"\"\"\n",
    "    将Markdown文件转换为HTML文件\n",
    "\n",
    "    Args:\n",
    "    files (list): 包含Markdown文件名的列表\n",
    "    output_folder (str): 要生成HTML文件的文件夹路径\n",
    "\n",
    "    Returns:\n",
    "    None\n",
    "    \"\"\"\n",
    "    for file in files:\n",
    "        # 读取Markdown文件\n",
    "        with open(file, 'r', encoding='utf-8') as f:\n",
    "            text = f.read()\n",
    "        \n",
    "        # 转换为HTML\n",
    "        html = markdown.markdown(text)\n",
    "        \n",
    "        # 在HTML开头添加<meta charset=\"UTF-8\">\n",
    "        html_with_charset = '<meta charset=\"UTF-8\">\\n' + html\n",
    "\n",
    "        # 添加返回上一页的链接\n",
    "        html_with_back_button = '<a href=\"javascript:history.back()\">返回上一页</a>\\n' + html_with_charset + '\\n<a href=\"javascript:history.back()\">返回上一页</a>\\n'\n",
    "        \n",
    "        # 确保输出文件夹存在\n",
    "        os.makedirs(output_folder, exist_ok=True)\n",
    "        \n",
    "        # 构建输出HTML文件路径\n",
    "        html_file = os.path.join(output_folder, os.path.basename(file).replace('.md', '.html'))\n",
    "        \n",
    "        # 写入HTML文件\n",
    "        with open(html_file, 'w', encoding='utf-8') as f:\n",
    "            f.write(html_with_back_button)\n",
    "\n",
    "        print(f\"{file} 转换完成\")\n"
   ]
  },
  {
   "cell_type": "code",
   "execution_count": 3,
   "metadata": {},
   "outputs": [
    {
     "name": "stdout",
     "output_type": "stream",
     "text": [
      "./semester6/week1.md 转换完成\n"
     ]
    }
   ],
   "source": [
    "convert_md_to_html(['./semester6/week1.md'], './semester6/')"
   ]
  },
  {
   "cell_type": "code",
   "execution_count": null,
   "metadata": {},
   "outputs": [],
   "source": [
    "convert_md_to_html(['./futureTODO/future.md'], './futureTODO/')"
   ]
  }
 ],
 "metadata": {
  "kernelspec": {
   "display_name": "DataAnalyze",
   "language": "python",
   "name": "python3"
  },
  "language_info": {
   "codemirror_mode": {
    "name": "ipython",
    "version": 3
   },
   "file_extension": ".py",
   "mimetype": "text/x-python",
   "name": "python",
   "nbconvert_exporter": "python",
   "pygments_lexer": "ipython3",
   "version": "3.12.0"
  },
  "orig_nbformat": 4
 },
 "nbformat": 4,
 "nbformat_minor": 2
}
